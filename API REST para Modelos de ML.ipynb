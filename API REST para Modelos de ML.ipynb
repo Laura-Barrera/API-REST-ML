{
  "cells": [
    {
      "cell_type": "markdown",
      "metadata": {
        "id": "z0_3P9I4XqL0"
      },
      "source": [
        "**Nombre:** Laura Melissa Barrera Pinto\n",
        "\n",
        "**Código:** 202422789"
      ]
    },
    {
      "cell_type": "markdown",
      "metadata": {
        "id": "mTXfZRlDZePn"
      },
      "source": [
        "## Instalación de FastAPI"
      ]
    },
    {
      "cell_type": "code",
      "execution_count": 1,
      "metadata": {
        "colab": {
          "base_uri": "https://localhost:8080/"
        },
        "collapsed": true,
        "id": "um2cFgWEXRPA",
        "outputId": "c4c977ad-02ff-486f-f4c4-2b42997061be"
      },
      "outputs": [
        {
          "name": "stdout",
          "output_type": "stream",
          "text": [
            "Collecting fastapi\n",
            "  Using cached fastapi-0.115.12-py3-none-any.whl.metadata (27 kB)\n",
            "Collecting starlette<0.47.0,>=0.40.0 (from fastapi)\n",
            "  Using cached starlette-0.46.1-py3-none-any.whl.metadata (6.2 kB)\n",
            "Collecting pydantic!=1.8,!=1.8.1,!=2.0.0,!=2.0.1,!=2.1.0,<3.0.0,>=1.7.4 (from fastapi)\n",
            "  Using cached pydantic-2.11.0-py3-none-any.whl.metadata (63 kB)\n",
            "Collecting typing-extensions>=4.8.0 (from fastapi)\n",
            "  Using cached typing_extensions-4.13.0-py3-none-any.whl.metadata (3.0 kB)\n",
            "Collecting annotated-types>=0.6.0 (from pydantic!=1.8,!=1.8.1,!=2.0.0,!=2.0.1,!=2.1.0,<3.0.0,>=1.7.4->fastapi)\n",
            "  Using cached annotated_types-0.7.0-py3-none-any.whl.metadata (15 kB)\n",
            "Collecting pydantic-core==2.33.0 (from pydantic!=1.8,!=1.8.1,!=2.0.0,!=2.0.1,!=2.1.0,<3.0.0,>=1.7.4->fastapi)\n",
            "  Using cached pydantic_core-2.33.0-cp312-cp312-win_amd64.whl.metadata (6.9 kB)\n",
            "Collecting typing-inspection>=0.4.0 (from pydantic!=1.8,!=1.8.1,!=2.0.0,!=2.0.1,!=2.1.0,<3.0.0,>=1.7.4->fastapi)\n",
            "  Using cached typing_inspection-0.4.0-py3-none-any.whl.metadata (2.6 kB)\n",
            "Collecting anyio<5,>=3.6.2 (from starlette<0.47.0,>=0.40.0->fastapi)\n",
            "  Using cached anyio-4.9.0-py3-none-any.whl.metadata (4.7 kB)\n",
            "Collecting idna>=2.8 (from anyio<5,>=3.6.2->starlette<0.47.0,>=0.40.0->fastapi)\n",
            "  Using cached idna-3.10-py3-none-any.whl.metadata (10 kB)\n",
            "Collecting sniffio>=1.1 (from anyio<5,>=3.6.2->starlette<0.47.0,>=0.40.0->fastapi)\n",
            "  Using cached sniffio-1.3.1-py3-none-any.whl.metadata (3.9 kB)\n",
            "Using cached fastapi-0.115.12-py3-none-any.whl (95 kB)\n",
            "Using cached pydantic-2.11.0-py3-none-any.whl (442 kB)\n",
            "Using cached pydantic_core-2.33.0-cp312-cp312-win_amd64.whl (2.0 MB)\n",
            "Using cached starlette-0.46.1-py3-none-any.whl (71 kB)\n",
            "Using cached typing_extensions-4.13.0-py3-none-any.whl (45 kB)\n",
            "Using cached annotated_types-0.7.0-py3-none-any.whl (13 kB)\n",
            "Using cached anyio-4.9.0-py3-none-any.whl (100 kB)\n",
            "Using cached typing_inspection-0.4.0-py3-none-any.whl (14 kB)\n",
            "Using cached idna-3.10-py3-none-any.whl (70 kB)\n",
            "Using cached sniffio-1.3.1-py3-none-any.whl (10 kB)\n",
            "Installing collected packages: typing-extensions, sniffio, idna, annotated-types, typing-inspection, pydantic-core, anyio, starlette, pydantic, fastapi\n",
            "  Attempting uninstall: typing-extensions\n",
            "    Found existing installation: typing_extensions 4.13.0\n",
            "    Uninstalling typing_extensions-4.13.0:\n",
            "      Successfully uninstalled typing_extensions-4.13.0\n",
            "  Attempting uninstall: sniffio\n",
            "    Found existing installation: sniffio 1.3.1\n",
            "    Uninstalling sniffio-1.3.1:\n",
            "      Successfully uninstalled sniffio-1.3.1\n",
            "  Attempting uninstall: idna\n",
            "    Found existing installation: idna 3.10\n",
            "    Uninstalling idna-3.10:\n",
            "      Successfully uninstalled idna-3.10\n",
            "  Attempting uninstall: annotated-types\n",
            "    Found existing installation: annotated-types 0.7.0\n",
            "    Uninstalling annotated-types-0.7.0:\n",
            "      Successfully uninstalled annotated-types-0.7.0\n",
            "  Attempting uninstall: typing-inspection\n",
            "    Found existing installation: typing-inspection 0.4.0\n",
            "    Uninstalling typing-inspection-0.4.0:\n",
            "      Successfully uninstalled typing-inspection-0.4.0\n",
            "  Attempting uninstall: pydantic-core\n",
            "    Found existing installation: pydantic_core 2.33.0\n",
            "    Uninstalling pydantic_core-2.33.0:\n",
            "      Successfully uninstalled pydantic_core-2.33.0\n",
            "  Attempting uninstall: anyio\n",
            "    Found existing installation: anyio 4.9.0\n",
            "    Uninstalling anyio-4.9.0:\n",
            "      Successfully uninstalled anyio-4.9.0\n",
            "  Attempting uninstall: starlette\n",
            "    Found existing installation: starlette 0.46.1\n",
            "    Uninstalling starlette-0.46.1:\n",
            "      Successfully uninstalled starlette-0.46.1\n",
            "  Attempting uninstall: pydantic\n",
            "    Found existing installation: pydantic 2.11.0\n",
            "    Uninstalling pydantic-2.11.0:\n",
            "      Successfully uninstalled pydantic-2.11.0\n",
            "  Attempting uninstall: fastapi\n",
            "    Found existing installation: fastapi 0.115.12\n",
            "    Uninstalling fastapi-0.115.12:\n",
            "      Successfully uninstalled fastapi-0.115.12\n",
            "Successfully installed annotated-types-0.7.0 anyio-4.9.0 fastapi-0.115.12 idna-3.10 pydantic-2.11.0 pydantic-core-2.33.0 sniffio-1.3.1 starlette-0.46.1 typing-extensions-4.13.0 typing-inspection-0.4.0\n",
            "Note: you may need to restart the kernel to use updated packages.\n"
          ]
        },
        {
          "name": "stderr",
          "output_type": "stream",
          "text": [
            "\n",
            "[notice] A new release of pip is available: 24.0 -> 25.0.1\n",
            "[notice] To update, run: python.exe -m pip install --upgrade pip\n"
          ]
        }
      ],
      "source": [
        "pip install --user --upgrade --force-reinstall fastapi"
      ]
    },
    {
      "cell_type": "markdown",
      "metadata": {
        "id": "PsvvzTmNZkT2"
      },
      "source": [
        "## Selección de modelos para el despliegue"
      ]
    },
    {
      "cell_type": "markdown",
      "metadata": {
        "id": "F3V9IQKsaZux"
      },
      "source": [
        "Se realizará una API para la clasificación de Churn de los clientes de una compañía de telecomunicaciones, teniendo en cuenta los siguientes datos clave:\n",
        "- Call Failure (Numero fallos de llamada)\n",
        "- Complaints (0: Sin queja, 1 Queja)\n",
        "- Subscription Length (Meses de suscripción)\n",
        "- Charge Amount (0: Mas bajo, 9: Más alto)\n",
        "- Seconds of use (Total de segundos)\n",
        "- Frecuency of use (Numero total llamadas)\n",
        "- Frecuency of SMS (Numero total de mensajes de texto)\n",
        "- Distinct Called Numbers (Numero total llamadas distintas)\n",
        "- Age group (1: Más joven, 5: Más viejo)\n",
        "- Status (1: Activo, 2: No activo)\n",
        "- Age (Edad del cliente)\n",
        "- Customer Value (Valor del plan)\n",
        "- Churn (1: abandono, 0: No abandono)\n",
        "\n",
        "Se aplicara el modelo de RandomForest y Regresión Logistica"
      ]
    },
    {
      "cell_type": "code",
      "execution_count": 2,
      "metadata": {},
      "outputs": [],
      "source": [
        "# Librerias para preprocesamiento y entrenamiento del modelo\n",
        "import pandas as pd\n",
        "import numpy as np\n",
        "from sklearn.ensemble import RandomForestClassifier\n",
        "from sklearn.linear_model import LogisticRegression\n",
        "from sklearn.model_selection import train_test_split, GridSearchCV\n",
        "from sklearn.preprocessing import StandardScaler\n",
        "from sklearn.metrics import accuracy_score, classification_report\n",
        "\n",
        "# Librerias para API REST\n",
        "import joblib\n",
        "import logging\n",
        "import uvicorn\n",
        "import threading\n",
        "import requests\n",
        "from fastapi import FastAPI\n",
        "from pydantic import BaseModel"
      ]
    },
    {
      "cell_type": "code",
      "execution_count": 3,
      "metadata": {},
      "outputs": [],
      "source": [
        "# Cargue del dataset y seleccion de variables\n",
        "data = pd.read_csv(r'C:\\Users\\User\\Downloads\\Analitica para la toma de decisiones\\Actividades\\Unidad 3\\Customer Churn.csv')\n",
        "X = data.drop(columns=[\"Churn\"])\n",
        "y = data[\"Churn\"]"
      ]
    },
    {
      "cell_type": "markdown",
      "metadata": {
        "id": "5y6NBzWIqCyM"
      },
      "source": [
        "## Registro de eventos (loggin)"
      ]
    },
    {
      "cell_type": "markdown",
      "metadata": {},
      "source": [
        "Se realizara el registro de eventos desde el entrenamiento del modelo"
      ]
    },
    {
      "cell_type": "code",
      "execution_count": 4,
      "metadata": {},
      "outputs": [],
      "source": [
        "# Configurar logging\n",
        "logging.basicConfig(level=logging.INFO, format='%(asctime)s - %(levelname)s - %(message)s')\n",
        "logger = logging.getLogger(__name__)"
      ]
    },
    {
      "cell_type": "markdown",
      "metadata": {
        "id": "_8nOK5Dmhuu7"
      },
      "source": [
        "## Entrenamiento del modelo"
      ]
    },
    {
      "cell_type": "markdown",
      "metadata": {},
      "source": [
        "El entrenamiento del modelo se realiza de manera normal y se almacenan los modelos entrenados para su posterior despliegue en la API"
      ]
    },
    {
      "cell_type": "code",
      "execution_count": 5,
      "metadata": {},
      "outputs": [],
      "source": [
        "# División en conjunto de entrenamiento y prueba\n",
        "X_train, X_test, y_train, y_test = train_test_split(X, y, test_size=0.2, random_state=42)\n",
        "\n",
        "# Estandarización de variables numéricas\n",
        "scaler = StandardScaler()\n",
        "X_train_scaled = scaler.fit_transform(X_train)\n",
        "X_test_scaled = scaler.transform(X_test)"
      ]
    },
    {
      "cell_type": "code",
      "execution_count": 6,
      "metadata": {},
      "outputs": [
        {
          "data": {
            "text/plain": [
              "['scaler.pkl']"
            ]
          },
          "execution_count": 6,
          "metadata": {},
          "output_type": "execute_result"
        }
      ],
      "source": [
        "# Guardar el scaler que se uso para los datos en el modelo\n",
        "joblib.dump(scaler, \"scaler.pkl\")"
      ]
    },
    {
      "cell_type": "markdown",
      "metadata": {},
      "source": [
        "### Random Forest"
      ]
    },
    {
      "cell_type": "code",
      "execution_count": 7,
      "metadata": {},
      "outputs": [],
      "source": [
        "# Definir el espacio de hiperparámetros a explorar\n",
        "param_grid = {\n",
        "    'n_estimators': [100, 200],\n",
        "    'max_depth': [10, 20, 30],\n",
        "    'min_samples_split': [2, 5, 10]\n",
        "}"
      ]
    },
    {
      "cell_type": "code",
      "execution_count": 8,
      "metadata": {},
      "outputs": [
        {
          "name": "stderr",
          "output_type": "stream",
          "text": [
            "2025-03-28 15:50:19,280 - INFO - Mejor configuración de hiperparámetros Random Forest: {'max_depth': 30, 'min_samples_split': 5, 'n_estimators': 100}\n"
          ]
        }
      ],
      "source": [
        "# Entrenamiento del modelo\n",
        "rf_model = RandomForestClassifier(random_state=42)\n",
        "grid_search = GridSearchCV(rf_model, param_grid, cv=5, scoring=\"f1\", n_jobs=-1)\n",
        "grid_search.fit(X_train_scaled, y_train)\n",
        "\n",
        "# Guardar los mejores parámetros\n",
        "logger.info(f\"Mejor configuración de hiperparámetros Random Forest: {grid_search.best_params_}\")\n",
        "\n",
        "# Entrenar el mejor modelo encontrado\n",
        "best_rf_model = grid_search.best_estimator_"
      ]
    },
    {
      "cell_type": "code",
      "execution_count": 9,
      "metadata": {},
      "outputs": [
        {
          "name": "stderr",
          "output_type": "stream",
          "text": [
            "2025-03-28 15:50:19,355 - INFO - Precisión del modelo Random Forest entrenado: 0.93\n",
            "2025-03-28 15:50:19,467 - INFO - Modelo de Churn Random Forest guardado exitosamente.\n"
          ]
        }
      ],
      "source": [
        "# Predicción en conjunto de prueba\n",
        "y_pred = best_rf_model.predict(X_test_scaled)\n",
        "logger.info(f\"Precisión del modelo Random Forest entrenado: {accuracy_score(y_test, y_pred):.2f}\")\n",
        "\n",
        "# Guardar el modelo\n",
        "try:\n",
        "    joblib.dump(best_rf_model, \"modelo_churn_rf.pkl\")\n",
        "    logger.info(\"Modelo de Churn Random Forest guardado exitosamente.\")\n",
        "except Exception as e:\n",
        "    logger.error(f\"Error al guardar el modelo Random Forest: {e}\")"
      ]
    },
    {
      "cell_type": "markdown",
      "metadata": {},
      "source": [
        "### Regresión Logistica"
      ]
    },
    {
      "cell_type": "code",
      "execution_count": 10,
      "metadata": {},
      "outputs": [
        {
          "name": "stderr",
          "output_type": "stream",
          "text": [
            "2025-03-28 15:50:19,574 - INFO - Precisión del modelo Regresión Logistica entrenado: 0.87\n",
            "2025-03-28 15:50:19,578 - INFO - Modelo de Churn Regresión Logistica guardado exitosamente.\n"
          ]
        }
      ],
      "source": [
        "# Entrenar el modelo de Regresión Logística\n",
        "log_model = LogisticRegression(max_iter=1000, random_state=42)\n",
        "log_model.fit(X_train_scaled, y_train)\n",
        "\n",
        "# Predicciones\n",
        "y_pred_log = log_model.predict(X_test_scaled)\n",
        "logger.info(f\"Precisión del modelo Regresión Logistica entrenado: {accuracy_score(y_test, y_pred_log):.2f}\")\n",
        "\n",
        "# Guardar el modelo\n",
        "try:\n",
        "    joblib.dump(log_model, \"modelo_churn_log.pkl\")\n",
        "    logger.info(\"Modelo de Churn Regresión Logistica guardado exitosamente.\")\n",
        "except Exception as e:\n",
        "    logger.error(f\"Error al guardar el modelo Regresión Logistica: {e}\")"
      ]
    },
    {
      "cell_type": "markdown",
      "metadata": {
        "id": "C-6MoDzYnNYM"
      },
      "source": [
        "## Despliegue del modelo"
      ]
    },
    {
      "cell_type": "markdown",
      "metadata": {},
      "source": [
        "El modelo se despliega a través de una API de manera local"
      ]
    },
    {
      "cell_type": "code",
      "execution_count": 11,
      "metadata": {},
      "outputs": [],
      "source": [
        "# Inicializar FastAPI\n",
        "app = FastAPI(title=\"API de Clasificación de Churn\")\n",
        "\n",
        "# Definir el modelo de entrada\n",
        "class ChurnInput(BaseModel):\n",
        "    Call_Failure: int\n",
        "    Complaints: int\n",
        "    Subscription_Length: int\n",
        "    Charge_Amount: int\n",
        "    Seconds_of_use: int\n",
        "    Frecuency_of_use: int\n",
        "    Frecuency_of_SMS: int\n",
        "    Distinct_Called_Numbers: int\n",
        "    Age_group: int\n",
        "    Tariff_Plan: int\n",
        "    Status: int\n",
        "    Age: int\n",
        "    Customer_Value: float"
      ]
    },
    {
      "cell_type": "code",
      "execution_count": 12,
      "metadata": {},
      "outputs": [
        {
          "name": "stderr",
          "output_type": "stream",
          "text": [
            "2025-03-28 15:50:19,722 - INFO - Modelo cargado exitosamente en la API.\n"
          ]
        }
      ],
      "source": [
        "# Cargar modelos\n",
        "scaler = joblib.load(\"scaler.pkl\")\n",
        "try:\n",
        "    model_rf = joblib.load(\"modelo_churn_rf.pkl\")\n",
        "    model_log = joblib.load(\"modelo_churn_log.pkl\")\n",
        "    logger.info(\"Modelo cargado exitosamente en la API.\")\n",
        "except Exception as e:\n",
        "    logger.error(f\"Error al cargar el modelo en la API: {e}\")\n",
        "    model_rf = None\n",
        "    model_log = None"
      ]
    },
    {
      "cell_type": "markdown",
      "metadata": {
        "id": "V0Ybbik_pUSZ"
      },
      "source": [
        "### Definir acceso a los modelos"
      ]
    },
    {
      "cell_type": "code",
      "execution_count": 13,
      "metadata": {},
      "outputs": [],
      "source": [
        "# Definir URL para acceso\n",
        "\n",
        "@app.post(\"/predict_rf\")\n",
        "async def predict_model_rf(data: ChurnInput):\n",
        "    \"\"\"Recibe datos del cliente y devuelve la clasificación de churn.\"\"\"\n",
        "    datos = np.array([data.Call_Failure, data.Complaints, data.Subscription_Length, data.Charge_Amount, data.Seconds_of_use, data.Frecuency_of_use, data.Frecuency_of_SMS, data.Distinct_Called_Numbers, data.Age_group, data.Tariff_Plan, data.Status, data.Age, data.Customer_Value]).reshape(1, -1)\n",
        "    \n",
        "    try:\n",
        "        data_df = pd.DataFrame(datos, columns=X.columns)\n",
        "        input_scaled = scaler.transform(data_df)  \n",
        "        prediction = model_rf.predict(input_scaled)[0]\n",
        "        probability = model_rf.predict_proba(input_scaled)[0][1]\n",
        "        logger.info(f\"Predicción de Churn Random Forest: {int(prediction)}, Probabilidad de Churn Random Forest: {round(probability,2)}\")\n",
        "        return {\"Predicción de Churn Random Forest\": int(prediction), \"Probabilidad de Churn Random Forest\": round(probability,2)}\n",
        "    except Exception as e:\n",
        "        logger.error(f\"Error en la predicción Random Forest: {e}\")\n",
        "        return {\"error\": str(e)}\n",
        "    \n",
        "\n",
        "@app.post(\"/predict_log\")\n",
        "async def predict_model_log(data: ChurnInput):\n",
        "    \"\"\"Recibe datos del cliente y devuelve la clasificación de churn.\"\"\"\n",
        "    datos = np.array([data.Call_Failure, data.Complaints, data.Subscription_Length, data.Charge_Amount, data.Seconds_of_use, data.Frecuency_of_use, data.Frecuency_of_SMS, data.Distinct_Called_Numbers, data.Age_group, data.Tariff_Plan, data.Status, data.Age, data.Customer_Value]).reshape(1, -1)\n",
        "    \n",
        "    try:\n",
        "        data_df = pd.DataFrame(datos, columns=X.columns)\n",
        "        input_scaled = scaler.transform(data_df)  \n",
        "        prediction = model_log.predict(input_scaled)[0]\n",
        "        probability = model_log.predict_proba(input_scaled)[0][1]\n",
        "        logger.info(f\"Predicción de Churn Regresión Logistica: {int(prediction)}, Probabilidad de Churn Regresión Logistica: {round(probability,2)}\")\n",
        "        return {\"Predicción de Churn Regresión Logistica\": int(prediction), \"Probabilidad de Churn Regresión Logistica\": round(probability,2)}\n",
        "    except Exception as e:\n",
        "        logger.error(f\"Error en la predicción Regresión Logistica: {e}\")\n",
        "        return {\"error\": str(e)}"
      ]
    },
    {
      "cell_type": "markdown",
      "metadata": {
        "id": "bvZN6UDBvBr6"
      },
      "source": [
        "## Ejecutar API en segundo plano"
      ]
    },
    {
      "cell_type": "code",
      "execution_count": null,
      "metadata": {},
      "outputs": [
        {
          "name": "stderr",
          "output_type": "stream",
          "text": [
            "2025-03-28 15:51:36,107 - INFO - Iniciando servidor FastAPI...\n"
          ]
        },
        {
          "name": "stderr",
          "output_type": "stream",
          "text": [
            "INFO:     Started server process [8364]\n",
            "INFO:     Waiting for application startup.\n",
            "INFO:     Application startup complete.\n",
            "INFO:     Uvicorn running on http://0.0.0.0:8000 (Press CTRL+C to quit)\n",
            "2025-03-28 15:52:05,964 - INFO - Predicción de Churn Random Forest: 1, Probabilidad de Churn Random Forest: 0.9\n"
          ]
        },
        {
          "name": "stdout",
          "output_type": "stream",
          "text": [
            "INFO:     127.0.0.1:42087 - \"POST /predict_rf HTTP/1.1\" 200 OK\n"
          ]
        },
        {
          "name": "stderr",
          "output_type": "stream",
          "text": [
            "2025-03-28 15:52:11,644 - INFO - Predicción de Churn Random Forest: 1, Probabilidad de Churn Random Forest: 0.82\n"
          ]
        },
        {
          "name": "stdout",
          "output_type": "stream",
          "text": [
            "INFO:     127.0.0.1:42089 - \"POST /predict_rf HTTP/1.1\" 200 OK\n"
          ]
        },
        {
          "name": "stderr",
          "output_type": "stream",
          "text": [
            "2025-03-28 15:52:15,359 - INFO - Predicción de Churn Random Forest: 0, Probabilidad de Churn Random Forest: 0.17\n"
          ]
        },
        {
          "name": "stdout",
          "output_type": "stream",
          "text": [
            "INFO:     127.0.0.1:42089 - \"POST /predict_rf HTTP/1.1\" 200 OK\n"
          ]
        },
        {
          "name": "stderr",
          "output_type": "stream",
          "text": [
            "2025-03-28 15:52:21,248 - INFO - Predicción de Churn Random Forest: 0, Probabilidad de Churn Random Forest: 0.0\n"
          ]
        },
        {
          "name": "stdout",
          "output_type": "stream",
          "text": [
            "INFO:     127.0.0.1:42093 - \"POST /predict_rf HTTP/1.1\" 200 OK\n"
          ]
        },
        {
          "name": "stderr",
          "output_type": "stream",
          "text": [
            "2025-03-28 15:52:36,924 - INFO - Predicción de Churn Regresión Logistica: 1, Probabilidad de Churn Regresión Logistica: 0.87\n"
          ]
        },
        {
          "name": "stdout",
          "output_type": "stream",
          "text": [
            "INFO:     127.0.0.1:42095 - \"POST /predict_log HTTP/1.1\" 200 OK\n"
          ]
        },
        {
          "name": "stderr",
          "output_type": "stream",
          "text": [
            "2025-03-28 15:52:41,352 - INFO - Predicción de Churn Regresión Logistica: 0, Probabilidad de Churn Regresión Logistica: 0.26\n"
          ]
        },
        {
          "name": "stdout",
          "output_type": "stream",
          "text": [
            "INFO:     127.0.0.1:42095 - \"POST /predict_log HTTP/1.1\" 200 OK\n"
          ]
        },
        {
          "name": "stderr",
          "output_type": "stream",
          "text": [
            "2025-03-28 15:52:52,714 - INFO - Predicción de Churn Regresión Logistica: 0, Probabilidad de Churn Regresión Logistica: 0.0\n"
          ]
        },
        {
          "name": "stdout",
          "output_type": "stream",
          "text": [
            "INFO:     127.0.0.1:42097 - \"POST /predict_log HTTP/1.1\" 200 OK\n"
          ]
        },
        {
          "name": "stderr",
          "output_type": "stream",
          "text": [
            "2025-03-28 15:52:56,904 - INFO - Predicción de Churn Regresión Logistica: 0, Probabilidad de Churn Regresión Logistica: 0.05\n"
          ]
        },
        {
          "name": "stdout",
          "output_type": "stream",
          "text": [
            "INFO:     127.0.0.1:42097 - \"POST /predict_log HTTP/1.1\" 200 OK\n",
            "INFO:     127.0.0.1:42105 - \"GET /docs HTTP/1.1\" 200 OK\n",
            "INFO:     127.0.0.1:42105 - \"GET /openapi.json HTTP/1.1\" 200 OK\n"
          ]
        },
        {
          "name": "stderr",
          "output_type": "stream",
          "text": [
            "2025-03-28 15:58:02,176 - INFO - Predicción de Churn Random Forest: 1, Probabilidad de Churn Random Forest: 0.98\n"
          ]
        },
        {
          "name": "stdout",
          "output_type": "stream",
          "text": [
            "INFO:     127.0.0.1:42173 - \"POST /predict_rf HTTP/1.1\" 200 OK\n"
          ]
        },
        {
          "name": "stderr",
          "output_type": "stream",
          "text": [
            "2025-03-28 15:58:43,653 - INFO - Predicción de Churn Regresión Logistica: 1, Probabilidad de Churn Regresión Logistica: 0.92\n"
          ]
        },
        {
          "name": "stdout",
          "output_type": "stream",
          "text": [
            "INFO:     127.0.0.1:42187 - \"POST /predict_log HTTP/1.1\" 200 OK\n"
          ]
        },
        {
          "name": "stderr",
          "output_type": "stream",
          "text": [
            "2025-03-28 16:03:08,305 - INFO - Predicción de Churn Random Forest: 0, Probabilidad de Churn Random Forest: 0.17\n"
          ]
        },
        {
          "name": "stdout",
          "output_type": "stream",
          "text": [
            "INFO:     127.0.0.1:42231 - \"POST /predict_rf HTTP/1.1\" 200 OK\n"
          ]
        },
        {
          "name": "stderr",
          "output_type": "stream",
          "text": [
            "2025-03-28 16:03:08,325 - INFO - Predicción de Churn Random Forest: 1, Probabilidad de Churn Random Forest: 0.9\n"
          ]
        },
        {
          "name": "stdout",
          "output_type": "stream",
          "text": [
            "INFO:     127.0.0.1:42232 - \"POST /predict_rf HTTP/1.1\" 200 OK\n"
          ]
        },
        {
          "name": "stderr",
          "output_type": "stream",
          "text": [
            "2025-03-28 16:03:08,348 - INFO - Predicción de Churn Random Forest: 1, Probabilidad de Churn Random Forest: 0.82\n"
          ]
        },
        {
          "name": "stdout",
          "output_type": "stream",
          "text": [
            "INFO:     127.0.0.1:42233 - \"POST /predict_rf HTTP/1.1\" 200 OK\n"
          ]
        },
        {
          "name": "stderr",
          "output_type": "stream",
          "text": [
            "2025-03-28 16:03:08,370 - INFO - Predicción de Churn Random Forest: 0, Probabilidad de Churn Random Forest: 0.0\n"
          ]
        },
        {
          "name": "stdout",
          "output_type": "stream",
          "text": [
            "INFO:     127.0.0.1:42234 - \"POST /predict_rf HTTP/1.1\" 200 OK\n"
          ]
        },
        {
          "name": "stderr",
          "output_type": "stream",
          "text": [
            "2025-03-28 16:03:08,382 - INFO - Predicción de Churn Regresión Logistica: 0, Probabilidad de Churn Regresión Logistica: 0.0\n"
          ]
        },
        {
          "name": "stdout",
          "output_type": "stream",
          "text": [
            "INFO:     127.0.0.1:42235 - \"POST /predict_log HTTP/1.1\" 200 OK\n"
          ]
        },
        {
          "name": "stderr",
          "output_type": "stream",
          "text": [
            "2025-03-28 16:03:08,392 - INFO - Predicción de Churn Regresión Logistica: 1, Probabilidad de Churn Regresión Logistica: 0.87\n"
          ]
        },
        {
          "name": "stdout",
          "output_type": "stream",
          "text": [
            "INFO:     127.0.0.1:42236 - \"POST /predict_log HTTP/1.1\" 200 OK\n"
          ]
        },
        {
          "name": "stderr",
          "output_type": "stream",
          "text": [
            "2025-03-28 16:03:08,401 - INFO - Predicción de Churn Regresión Logistica: 0, Probabilidad de Churn Regresión Logistica: 0.26\n"
          ]
        },
        {
          "name": "stdout",
          "output_type": "stream",
          "text": [
            "INFO:     127.0.0.1:42237 - \"POST /predict_log HTTP/1.1\" 200 OK\n"
          ]
        },
        {
          "name": "stderr",
          "output_type": "stream",
          "text": [
            "2025-03-28 16:03:08,412 - INFO - Predicción de Churn Regresión Logistica: 0, Probabilidad de Churn Regresión Logistica: 0.05\n"
          ]
        },
        {
          "name": "stdout",
          "output_type": "stream",
          "text": [
            "INFO:     127.0.0.1:42238 - \"POST /predict_log HTTP/1.1\" 200 OK\n"
          ]
        }
      ],
      "source": [
        "# Ejecutar API en segundo plano\n",
        "def run_api():\n",
        "  logger.info(\"Iniciando servidor FastAPI...\")\n",
        "  uvicorn.run(app, host=\"0.0.0.0\", port=8000)\n",
        "\n",
        "threading.Thread(target=run_api, daemon=True).start()"
      ]
    },
    {
      "cell_type": "markdown",
      "metadata": {},
      "source": [
        "## Casos de prueba del modelo sin Postman"
      ]
    },
    {
      "cell_type": "markdown",
      "metadata": {},
      "source": [
        "Este codigo solo se debe ejecutar cuando no se tenga acceso a Postman para probar la URL."
      ]
    },
    {
      "cell_type": "code",
      "execution_count": 15,
      "metadata": {},
      "outputs": [
        {
          "name": "stderr",
          "output_type": "stream",
          "text": [
            "2025-03-28 16:03:08,309 - INFO - Respuesta para cliente sin churn: {'Predicción de Churn Random Forest': 0, 'Probabilidad de Churn Random Forest': 0.17}\n",
            "2025-03-28 16:03:08,328 - INFO - Respuesta para cliente con churn: {'Predicción de Churn Random Forest': 1, 'Probabilidad de Churn Random Forest': 0.9}\n",
            "2025-03-28 16:03:08,353 - INFO - Respuesta orginal cliente con churn: {'Predicción de Churn Random Forest': 1, 'Probabilidad de Churn Random Forest': 0.82}\n",
            "2025-03-28 16:03:08,374 - INFO - Respuesta original cliente sin churn: {'Predicción de Churn Random Forest': 0, 'Probabilidad de Churn Random Forest': 0.0}\n",
            "2025-03-28 16:03:08,386 - INFO - Respuesta para cliente sin churn: {'Predicción de Churn Regresión Logistica': 0, 'Probabilidad de Churn Regresión Logistica': 0.0}\n",
            "2025-03-28 16:03:08,395 - INFO - Respuesta para cliente con churn: {'Predicción de Churn Regresión Logistica': 1, 'Probabilidad de Churn Regresión Logistica': 0.87}\n",
            "2025-03-28 16:03:08,404 - INFO - Respuesta orginal cliente con churn: {'Predicción de Churn Regresión Logistica': 0, 'Probabilidad de Churn Regresión Logistica': 0.26}\n",
            "2025-03-28 16:03:08,416 - INFO - Respuesta original cliente sin churn: {'Predicción de Churn Regresión Logistica': 0, 'Probabilidad de Churn Regresión Logistica': 0.05}\n"
          ]
        }
      ],
      "source": [
        "# Pruebas de la API\n",
        "def test_api_rf():\n",
        "    sample_no_churn = {\n",
        "        \"Call_Failure\": 0,\n",
        "        \"Complaints\": 0,\n",
        "        \"Subscription_Length\": 24,\n",
        "        \"Charge_Amount\": 50,\n",
        "        \"Seconds_of_use\": 300,\n",
        "        \"Frecuency_of_use\": 10,\n",
        "        \"Frecuency_of_SMS\": 5,\n",
        "        \"Distinct_Called_Numbers\": 3,\n",
        "        \"Age_group\": 2,\n",
        "        \"Tariff_Plan\": 1,\n",
        "        \"Status\": 1,\n",
        "        \"Age\": 35,\n",
        "        \"Customer_Value\": 200.0\n",
        "    }\n",
        "    \n",
        "    sample_churn = {\n",
        "        \"Call_Failure\": 2,\n",
        "        \"Complaints\": 3,\n",
        "        \"Subscription_Length\": 6,\n",
        "        \"Charge_Amount\": 20,\n",
        "        \"Seconds_of_use\": 100,\n",
        "        \"Frecuency_of_use\": 3,\n",
        "        \"Frecuency_of_SMS\": 1,\n",
        "        \"Distinct_Called_Numbers\": 1,\n",
        "        \"Age_group\": 1,\n",
        "        \"Tariff_Plan\": 2,\n",
        "        \"Status\": 0,\n",
        "        \"Age\": 22,\n",
        "        \"Customer_Value\": 50.0\n",
        "    }\n",
        "\n",
        "    sample_Data_churn = {\n",
        "        \"Call_Failure\": 2,\n",
        "        \"Complaints\": 0,\n",
        "        \"Subscription_Length\": 41,\n",
        "        \"Charge_Amount\": 0,\n",
        "        \"Seconds_of_use\": 628,\n",
        "        \"Frecuency_of_use\": 13,\n",
        "        \"Frecuency_of_SMS\": 17,\n",
        "        \"Distinct_Called_Numbers\": 5,\n",
        "        \"Age_group\": 4,\n",
        "        \"Tariff_Plan\": 1,\n",
        "        \"Status\": 2,\n",
        "        \"Age\": 45,\n",
        "        \"Customer_Value\": 58.525\n",
        "    }\n",
        "\n",
        "    sample_Data_no_churn = {\n",
        "        \"Call_Failure\": 8,\n",
        "        \"Complaints\": 0,\n",
        "        \"Subscription_Length\": 38,\n",
        "        \"Charge_Amount\": 0,\n",
        "        \"Seconds_of_use\": 4370,\n",
        "        \"Frecuency_of_use\": 71,\n",
        "        \"Frecuency_of_SMS\": 5,\n",
        "        \"Distinct_Called_Numbers\": 17,\n",
        "        \"Age_group\": 3,\n",
        "        \"Tariff_Plan\": 1,\n",
        "        \"Status\": 1,\n",
        "        \"Age\": 30,\n",
        "        \"Customer_Value\": 197.64\n",
        "    }\n",
        "    \n",
        "    url = \"http://127.0.0.1:8000/predict_rf\"\n",
        "    \n",
        "    response_no_churn = requests.post(url, json=sample_no_churn)\n",
        "    logger.info(f\"Respuesta para cliente sin churn: {response_no_churn.json()}\")\n",
        "    \n",
        "    response_churn = requests.post(url, json=sample_churn)\n",
        "    logger.info(f\"Respuesta para cliente con churn: {response_churn.json()}\")\n",
        "\n",
        "    response_churn_org = requests.post(url, json=sample_Data_churn)\n",
        "    logger.info(f\"Respuesta orginal cliente con churn: {response_churn_org.json()}\")\n",
        "\n",
        "    response_no_churn_org = requests.post(url, json=sample_Data_no_churn)\n",
        "    logger.info(f\"Respuesta original cliente sin churn: {response_no_churn_org.json()}\")\n",
        "\n",
        "test_api_rf()\n",
        "\n",
        "def test_api_log():\n",
        "    sample_no_churn = {\n",
        "        \"Call_Failure\": 0,\n",
        "        \"Complaints\": 0,\n",
        "        \"Subscription_Length\": 24,\n",
        "        \"Charge_Amount\": 50,\n",
        "        \"Seconds_of_use\": 300,\n",
        "        \"Frecuency_of_use\": 10,\n",
        "        \"Frecuency_of_SMS\": 5,\n",
        "        \"Distinct_Called_Numbers\": 3,\n",
        "        \"Age_group\": 2,\n",
        "        \"Tariff_Plan\": 1,\n",
        "        \"Status\": 1,\n",
        "        \"Age\": 35,\n",
        "        \"Customer_Value\": 200.0\n",
        "    }\n",
        "    \n",
        "    sample_churn = {\n",
        "        \"Call_Failure\": 2,\n",
        "        \"Complaints\": 3,\n",
        "        \"Subscription_Length\": 6,\n",
        "        \"Charge_Amount\": 20,\n",
        "        \"Seconds_of_use\": 100,\n",
        "        \"Frecuency_of_use\": 3,\n",
        "        \"Frecuency_of_SMS\": 1,\n",
        "        \"Distinct_Called_Numbers\": 1,\n",
        "        \"Age_group\": 1,\n",
        "        \"Tariff_Plan\": 2,\n",
        "        \"Status\": 0,\n",
        "        \"Age\": 22,\n",
        "        \"Customer_Value\": 50.0\n",
        "    }\n",
        "\n",
        "    sample_Data_churn = {\n",
        "        \"Call_Failure\": 2,\n",
        "        \"Complaints\": 0,\n",
        "        \"Subscription_Length\": 41,\n",
        "        \"Charge_Amount\": 0,\n",
        "        \"Seconds_of_use\": 628,\n",
        "        \"Frecuency_of_use\": 13,\n",
        "        \"Frecuency_of_SMS\": 17,\n",
        "        \"Distinct_Called_Numbers\": 5,\n",
        "        \"Age_group\": 4,\n",
        "        \"Tariff_Plan\": 1,\n",
        "        \"Status\": 2,\n",
        "        \"Age\": 45,\n",
        "        \"Customer_Value\": 58.525\n",
        "    }\n",
        "\n",
        "    sample_Data_no_churn = {\n",
        "        \"Call_Failure\": 8,\n",
        "        \"Complaints\": 0,\n",
        "        \"Subscription_Length\": 38,\n",
        "        \"Charge_Amount\": 0,\n",
        "        \"Seconds_of_use\": 4370,\n",
        "        \"Frecuency_of_use\": 71,\n",
        "        \"Frecuency_of_SMS\": 5,\n",
        "        \"Distinct_Called_Numbers\": 17,\n",
        "        \"Age_group\": 3,\n",
        "        \"Tariff_Plan\": 1,\n",
        "        \"Status\": 1,\n",
        "        \"Age\": 30,\n",
        "        \"Customer_Value\": 197.64\n",
        "    }\n",
        "    \n",
        "    url = \"http://127.0.0.1:8000/predict_log\"\n",
        "    \n",
        "    response_no_churn = requests.post(url, json=sample_no_churn)\n",
        "    logger.info(f\"Respuesta para cliente sin churn: {response_no_churn.json()}\")\n",
        "    \n",
        "    response_churn = requests.post(url, json=sample_churn)\n",
        "    logger.info(f\"Respuesta para cliente con churn: {response_churn.json()}\")\n",
        "\n",
        "    response_churn_org = requests.post(url, json=sample_Data_churn)\n",
        "    logger.info(f\"Respuesta orginal cliente con churn: {response_churn_org.json()}\")\n",
        "\n",
        "    response_no_churn_org = requests.post(url, json=sample_Data_no_churn)\n",
        "    logger.info(f\"Respuesta original cliente sin churn: {response_no_churn_org.json()}\")\n",
        "\n",
        "test_api_log()"
      ]
    }
  ],
  "metadata": {
    "colab": {
      "provenance": []
    },
    "kernelspec": {
      "display_name": "Python 3",
      "name": "python3"
    },
    "language_info": {
      "codemirror_mode": {
        "name": "ipython",
        "version": 3
      },
      "file_extension": ".py",
      "mimetype": "text/x-python",
      "name": "python",
      "nbconvert_exporter": "python",
      "pygments_lexer": "ipython3",
      "version": "3.12.3"
    }
  },
  "nbformat": 4,
  "nbformat_minor": 0
}
